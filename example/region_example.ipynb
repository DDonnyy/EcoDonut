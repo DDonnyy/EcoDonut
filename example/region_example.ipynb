{
 "cells": [
  {
   "metadata": {},
   "cell_type": "code",
   "source": [
    "from ecodonut.eco_frame import EcoFrameCalculator\n",
    "from ecodonut.eco_frame import EcoFrame\n",
    "import geopandas as gpd\n",
    "import pickle\n",
    "from ecodonut.utils.output import get_map\n",
    "from ecodonut.eco_frame import mark_territory"
   ],
   "id": "3ea38d40bf781f38",
   "outputs": [],
   "execution_count": null
  },
  {
   "metadata": {},
   "cell_type": "code",
   "source": [
    "zhd = gpd.read_file('example_data/railway_rail.geojson')\n",
    "dumps = gpd.read_file('example_data/landfill.geojson')\n",
    "nature_reserve = gpd.read_file('example_data/nature_reserve.geojson')\n",
    "industrial = gpd.read_file('example_data/industrial.geojson')\n",
    "wood = gpd.read_file('example_data/wood.geojson')\n",
    "water = gpd.read_file('example_data/water.geojson')\n",
    "\n",
    "borders = gpd.read_file('example_data/region.geojson')"
   ],
   "id": "a216c3ab1ef5feb8",
   "outputs": [],
   "execution_count": null
  },
  {
   "metadata": {},
   "cell_type": "code",
   "source": [
    "layers = {\n",
    "    'industrial': industrial,\n",
    "    \"gas_station\": None,\n",
    "    \"landfill\": dumps,\n",
    "    'regional_roads': None,\n",
    "    'federal_roads': None,\n",
    "    \"railway\": zhd,\n",
    "    \"nature_reserve\": nature_reserve,\n",
    "    \"water\": water,\n",
    "    'woods': wood\n",
    "}\n",
    "\n",
    "frame: EcoFrame = EcoFrameCalculator(territory=borders).evaluate_ecoframe(layers, min_layer_count=2, max_layer_count=8)\n"
   ],
   "id": "139407fc458db1aa",
   "outputs": [],
   "execution_count": null
  },
  {
   "metadata": {},
   "cell_type": "code",
   "source": [
    "pickle.dump(frame, open('tumen.pickle', 'wb'))\n",
    "eco_frame: EcoFrame = pickle.load(open('tumen.pickle', 'rb'))"
   ],
   "id": "2ebaeafdb14e4805",
   "outputs": [],
   "execution_count": null
  },
  {
   "metadata": {},
   "cell_type": "code",
   "source": "get_map(eco_frame, -10, 10).save('map.html')",
   "id": "6ec8d73650ce54ed",
   "outputs": [],
   "execution_count": null
  },
  {
   "metadata": {},
   "cell_type": "code",
   "source": "zone = gpd.read_file('example_data/test_borders.geojson')",
   "id": "63ac0718c2c47581",
   "outputs": [],
   "execution_count": null
  },
  {
   "metadata": {},
   "cell_type": "code",
   "source": "mark_territory(eco_frame, zone.iloc[2:3])",
   "id": "e44a627825a23c33",
   "outputs": [],
   "execution_count": null
  },
  {
   "metadata": {},
   "cell_type": "code",
   "source": [
    "azs = gpd.read_file('example_data/fuel.geojson')\n",
    "borders = gpd.read_file('example_data/region.geojson')\n",
    "layers = {\n",
    "    \"gas_station\": azs,\n",
    "}\n",
    "frame_add: EcoFrame = EcoFrameCalculator(territory=borders, settings_from=eco_frame).evaluate_ecoframe(layers)\n"
   ],
   "id": "cd5c498eb4b61455",
   "outputs": [],
   "execution_count": null
  },
  {
   "metadata": {},
   "cell_type": "code",
   "source": [
    "from ecodonut.eco_frame import concat_ecoframes\n",
    "new_frame = concat_ecoframes(eco_frame,frame_add)"
   ],
   "id": "baedd91359458cd0",
   "outputs": [],
   "execution_count": null
  },
  {
   "metadata": {},
   "cell_type": "code",
   "source": "get_map(new_frame, -10, 10).save('map_test.html')",
   "id": "f9030b95604317d4",
   "outputs": [],
   "execution_count": null
  },
  {
   "metadata": {},
   "cell_type": "code",
   "source": "",
   "id": "e19da6a35dc5739",
   "outputs": [],
   "execution_count": null
  }
 ],
 "metadata": {
  "kernelspec": {
   "display_name": "Python 3",
   "language": "python",
   "name": "python3"
  },
  "language_info": {
   "codemirror_mode": {
    "name": "ipython",
    "version": 2
   },
   "file_extension": ".py",
   "mimetype": "text/x-python",
   "name": "python",
   "nbconvert_exporter": "python",
   "pygments_lexer": "ipython2",
   "version": "2.7.6"
  }
 },
 "nbformat": 4,
 "nbformat_minor": 5
}
