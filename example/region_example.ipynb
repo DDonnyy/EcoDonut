{
 "cells": [
  {
   "metadata": {
    "ExecuteTime": {
     "end_time": "2024-11-07T15:35:37.721755Z",
     "start_time": "2024-11-07T15:35:19.870359Z"
    }
   },
   "cell_type": "code",
   "source": [
    "\n",
    "import geopandas as gpd\n",
    "\n",
    "zhd = gpd.read_file('railway_rail.geojson')\n",
    "azs = gpd.read_file('fuel.geojson')\n",
    "dumps = gpd.read_file('landfill.geojson')\n",
    "nature_reserve = gpd.read_file('nature_reserve.geojson')\n",
    "industrial = gpd.read_file('industrial.geojson')\n",
    "wood = gpd.read_file('wood.geojson')\n",
    "water = gpd.read_file('water.geojson')\n",
    "\n",
    "borders = gpd.read_file('region.geojson')"
   ],
   "id": "a216c3ab1ef5feb8",
   "outputs": [],
   "execution_count": 1
  },
  {
   "metadata": {
    "ExecuteTime": {
     "end_time": "2024-11-07T15:36:35.921469Z",
     "start_time": "2024-11-07T15:35:37.722760Z"
    }
   },
   "cell_type": "code",
   "source": [
    "\n",
    "%load_ext autoreload\n",
    "%autoreload 2\n",
    "from ecodonut.ecodonut import EcoFrameCalculator\n",
    "layers = {\n",
    "    'industrial': industrial,\n",
    "    \"gas_station\": azs,\n",
    "    \"landfill\": dumps,\n",
    "    'regional_roads': None,\n",
    "    'federal_roads': None,\n",
    "    \"railway\": zhd,\n",
    "    'rivers': None,\n",
    "    \"nature_reserve\": nature_reserve,\n",
    "    \"water\": None,\n",
    "    'woods': wood\n",
    "}\n",
    "\n",
    "frame = EcoFrameCalculator(territory=borders, min_layer_count=2, max_layer_count=8).evaluate_ecoframe(layers)\n"
   ],
   "id": "139407fc458db1aa",
   "outputs": [],
   "execution_count": 2
  },
  {
   "metadata": {
    "ExecuteTime": {
     "end_time": "2024-11-07T15:36:41.493398Z",
     "start_time": "2024-11-07T15:36:35.922478Z"
    }
   },
   "cell_type": "code",
   "source": [
    "from ecodonut.output import get_map\n",
    "\n",
    "get_map(frame, -10, 10).save('map.html')"
   ],
   "id": "6ec8d73650ce54ed",
   "outputs": [],
   "execution_count": 3
  },
  {
   "metadata": {},
   "cell_type": "code",
   "outputs": [],
   "execution_count": null,
   "source": "",
   "id": "e44a627825a23c33"
  }
 ],
 "metadata": {
  "kernelspec": {
   "display_name": "Python 3",
   "language": "python",
   "name": "python3"
  },
  "language_info": {
   "codemirror_mode": {
    "name": "ipython",
    "version": 2
   },
   "file_extension": ".py",
   "mimetype": "text/x-python",
   "name": "python",
   "nbconvert_exporter": "python",
   "pygments_lexer": "ipython2",
   "version": "2.7.6"
  }
 },
 "nbformat": 4,
 "nbformat_minor": 5
}
