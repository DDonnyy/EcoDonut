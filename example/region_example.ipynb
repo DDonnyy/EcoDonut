{
 "cells": [
  {
   "metadata": {
    "ExecuteTime": {
     "end_time": "2024-06-13T18:26:36.760084900Z",
     "start_time": "2024-06-13T18:26:34.928594800Z"
    }
   },
   "cell_type": "code",
   "source": [
    "import geopandas as gpd\n",
    "import pandas as pd\n",
    "from src.ecodonut.preprocessing import merge_objs_by_buffer, project_points_into_polygons, min_max_normalization\n",
    "import numpy as np\n",
    "\n",
    "\n",
    "def remove_nulls(x):\n",
    "    if isinstance(x, list):\n",
    "        x = [item for item in x if pd.notnull(item)]\n",
    "        if len(x) == 0:\n",
    "            return None\n",
    "        if len(x) == 1:\n",
    "            return x[0]\n",
    "    return x\n",
    "\n",
    "\n",
    "def industrial_preprocessing(gdf_OVNE, gdf_industrial):\n",
    "    gdf_OVNE.to_crs(3857, inplace=True)\n",
    "    gdf_OVNE = gdf_OVNE[\n",
    "        gdf_OVNE['name'].str.upper().str.contains(\n",
    "            'ПОЛИГОН|ЗАВОД|ТБО|ТКО|ЦЕХ|КОТЕЛЬНАЯ|РУДНИК|КАНАЛ|КАРЬЕР|СТАНЦИЯ|ПРОИЗВОД|ПРОМЫШЛЕН')]\n",
    "    gdf_OVNE = gdf_OVNE.filter(items=['name', 'geometry', 'dangerous_level'])\n",
    "\n",
    "    gdf_industrial.to_crs(3857, inplace=True)\n",
    "    gdf_industrial = gdf_industrial.filter(items=['name', 'geometry'])\n",
    "\n",
    "    gdf_industrial = merge_objs_by_buffer(gdf_industrial, 100)\n",
    "    gdf_industrial['name'] = gdf_industrial['name'].apply(remove_nulls)\n",
    "    union = project_points_into_polygons(gdf_OVNE, gdf_industrial)\n",
    "    union[['name', 'dangerous_level']] = union.apply(lambda row: pd.Series(\n",
    "        max(list(zip(row['name_right'], row['dangerous_level'])), key=lambda x: (-x[1], len(str(x[0]))))), axis=1)\n",
    "\n",
    "    union['name'] = union.apply(lambda row: row['name'] if pd.notna(row['name']) else (\n",
    "        row.name_left[0] if len(row.name_left) == 1 else row.name_left), axis=1)\n",
    "    union.dropna(subset='name', inplace=True)\n",
    "    union.drop(columns=['name_left', 'name_right', 'index_right'], inplace=True)\n",
    "    union['type'] = 'industrial'\n",
    "    union['dangerous_level'] = union['dangerous_level'].fillna(4)\n",
    "    union['initial_impact'] = union.apply(lambda x: -10 if x.dangerous_level == 1 else (\n",
    "        -8 if x.dangerous_level == 2 else (-6 if x.dangerous_level == 3 else -4)), axis=1)\n",
    "    union['fading'] = union.apply(lambda x: 0.8 if x.dangerous_level == 1 else (\n",
    "        0.6 if x.dangerous_level == 2 else (0.4 if x.dangerous_level == 3 else 0.2)), axis=1)\n",
    "    union['total_impact_radius'] = 1000 * union['initial_impact'] * union['fading']\n",
    "    union = gpd.GeoDataFrame(union, crs=3857)\n",
    "    union = union.loc[~union['geometry'].is_empty]\n",
    "    union = union[~union['geometry'].duplicated()]\n",
    "    return union\n",
    "\n",
    "\n",
    "city = 'Моcковская область'"
   ],
   "id": "52d60fb540f3ccf5",
   "execution_count": 1,
   "outputs": []
  },
  {
   "metadata": {
    "ExecuteTime": {
     "end_time": "2024-06-13T18:27:43.065939200Z",
     "start_time": "2024-06-13T18:27:42.619061100Z"
    }
   },
   "cell_type": "code",
   "source": [
    "ovne = gpd.read_parquet(f'.\\\\{city}\\\\ovne.parquet').to_crs(3857)\n",
    "ovne.rename(columns={'Наименование объекта': 'name', 'Категория \\nобъекта НВОС': 'dangerous_level'}, inplace=True)\n",
    "industrial = gpd.read_parquet(f'.\\\\{city}\\\\industrial.parquet').to_crs(3857)"
   ],
   "id": "6406fb5c27b28589",
   "execution_count": 2,
   "outputs": []
  },
  {
   "cell_type": "code",
   "execution_count": 4,
   "source": [
    "zhd = gpd.read_parquet(f'.\\\\{city}\\\\rails.parquet').to_crs(3857)\n",
    "azs = gpd.read_parquet(f'.\\\\{city}\\\\fuel.parquet').to_crs(3857)\n",
    "dumps = gpd.read_parquet(f'.\\\\{city}\\\\landfill.parquet').to_crs(3857)\n",
    "roads = gpd.read_parquet(f'.\\\\{city}\\\\roads.parquet').to_crs(3857)\n",
    "recreation = gpd.read_parquet(f'.\\\\{city}\\\\recreation.parquet').to_crs(3857)\n",
    "nature_reserve = gpd.read_file(f'.\\\\{city}\\\\nature_reserve.geojson').to_crs(3857)"
   ],
   "metadata": {
    "collapsed": false,
    "ExecuteTime": {
     "end_time": "2024-06-13T18:28:18.235223Z",
     "start_time": "2024-06-13T18:28:16.430048700Z"
    }
   },
   "id": "99aa359e9b0bbc14",
   "outputs": []
  },
  {
   "cell_type": "code",
   "execution_count": 5,
   "source": [
    "water_base = gpd.read_parquet(f'.\\\\{city}\\\\water.parquet').to_crs(3857)"
   ],
   "metadata": {
    "collapsed": false,
    "ExecuteTime": {
     "end_time": "2024-06-13T18:28:22.273715800Z",
     "start_time": "2024-06-13T18:28:20.369349700Z"
    }
   },
   "id": "bb8ac0cc6f41c3b3",
   "outputs": []
  },
  {
   "cell_type": "code",
   "execution_count": 7,
   "source": [
    "forest = gpd.read_parquet(f'.\\\\{city}\\\\woods.parquet').to_crs(3857)"
   ],
   "metadata": {
    "collapsed": false,
    "ExecuteTime": {
     "end_time": "2024-06-13T18:28:32.074534600Z",
     "start_time": "2024-06-13T18:28:31.113761100Z"
    }
   },
   "id": "dcd30f508fd37f9e",
   "outputs": []
  },
  {
   "cell_type": "code",
   "execution_count": null,
   "source": [
    "# water_base = gpd.read_file(f'.\\\\{city}\\\\water.geojson').to_crs(3857)\n",
    "# forest = gpd.read_file(f'.\\\\{city}\\\\woods.geojson').to_crs(3857)"
   ],
   "metadata": {
    "collapsed": false
   },
   "id": "245bc07f38c0cf0d",
   "outputs": []
  },
  {
   "cell_type": "code",
   "execution_count": 5,
   "source": [
    "# ovne = ovne.rename(columns={'Категория \\nобъекта НВОС_y': 'dangerous_level'})\n",
    "# ovne = ovne.rename(columns={'Наименование объекта_x': 'name'})"
   ],
   "metadata": {
    "collapsed": false,
    "ExecuteTime": {
     "end_time": "2024-06-13T11:22:48.659326700Z",
     "start_time": "2024-06-13T11:22:48.652576300Z"
    }
   },
   "id": "6f92e35c531163ea",
   "outputs": []
  },
  {
   "cell_type": "code",
   "execution_count": 6,
   "source": [
    "# gdf_POO = gpd.read_file(f'.\\\\{city}\\\\ПОО.geojson').to_crs(3857)\n",
    "# gdf_POO['name'] = gdf_POO['name'].apply(lambda x: x.replace('\\n', ' '))\n",
    "# gdf_POO.rename(columns={'danger_lev': 'dangerous_level'}, inplace=True)\n",
    "# gdf_POO['dangerous_level'] = gdf_POO['dangerous_level'].astype(int)\n",
    "# gdf_POO['dangerous_level'] = np.where(gdf_POO['dangerous_level'] == 5, 1,\n",
    "#                                       np.where(gdf_POO['dangerous_level'] == 4, 2,\n",
    "#                                                np.where(gdf_POO['dangerous_level'] == 1, 3,\n",
    "#                                                         np.where(gdf_POO['dangerous_level'] == 2, 3, 3))))\n",
    "# ovne = pd.concat([gdf_POO, ovne])"
   ],
   "metadata": {
    "collapsed": false,
    "ExecuteTime": {
     "end_time": "2024-06-13T11:22:48.684293900Z",
     "start_time": "2024-06-13T11:22:48.661577100Z"
    }
   },
   "id": "f303b983f4150f6f",
   "outputs": []
  },
  {
   "cell_type": "code",
   "execution_count": 8,
   "source": [
    "ovne = ovne.filter(items=['name', 'geometry', 'dangerous_level'])"
   ],
   "metadata": {
    "collapsed": false,
    "ExecuteTime": {
     "end_time": "2024-06-13T18:33:14.419985500Z",
     "start_time": "2024-06-13T18:33:14.404236600Z"
    }
   },
   "id": "3f109d88651dae02",
   "outputs": []
  },
  {
   "cell_type": "code",
   "execution_count": 15,
   "source": [
    "ovne = ovne.dropna(subset='name')\n",
    "ovne = ovne.dropna(subset='dangerous_level')\n",
    "ovne['dangerous_level'] = ovne['dangerous_level'].astype(int)\n",
    "industrial = industrial_preprocessing(ovne, industrial)\n",
    "industrial['geometry'] = industrial['geometry'].simplify(30)"
   ],
   "metadata": {
    "collapsed": false,
    "ExecuteTime": {
     "end_time": "2024-06-13T18:35:44.121068Z",
     "start_time": "2024-06-13T18:35:39.253116100Z"
    }
   },
   "id": "21c724a69173a3b0",
   "outputs": []
  },
  {
   "cell_type": "code",
   "execution_count": 16,
   "source": [
    "azs = azs.filter(items=['name', 'geometry'])\n",
    "azs['geometry'] = azs['geometry'].buffer(40)\n",
    "azs['type'] = 'petrol station'\n",
    "azs['initial_impact'] = -4\n",
    "azs['total_impact_radius'] = -1000 * 4 * 0.15\n",
    "azs = azs.loc[~azs['geometry'].is_empty]\n",
    "azs = azs[~azs['geometry'].duplicated()]\n",
    "azs['geometry'] = azs['geometry'].simplify(30)\n",
    "azs.name = azs.name.fillna('Без названия')\n"
   ],
   "metadata": {
    "collapsed": false,
    "ExecuteTime": {
     "end_time": "2024-06-13T18:35:45.916071800Z",
     "start_time": "2024-06-13T18:35:45.756858Z"
    }
   },
   "id": "51ca3502816b97e",
   "outputs": []
  },
  {
   "metadata": {
    "ExecuteTime": {
     "end_time": "2024-06-13T18:35:47.585286200Z",
     "start_time": "2024-06-13T18:35:47.552358200Z"
    }
   },
   "cell_type": "code",
   "execution_count": 17,
   "source": [
    "dumps.to_crs(3857, inplace=True)\n",
    "dumps = dumps.filter(items=['name', 'geometry'])\n",
    "dumps['type'] = 'landfill'\n",
    "dumps['initial_impact'] = -3\n",
    "dumps = dumps.loc[~dumps['geometry'].is_empty]\n",
    "dumps = dumps[~dumps['geometry'].duplicated()]\n",
    "dumps['area'] = dumps.area\n",
    "dumps['area_normalized'] = min_max_normalization(np.sqrt(dumps['area']), 1, 10)\n",
    "dumps['total_impact_radius'] = -1000 * 3 * 0.4 * dumps['area_normalized']\n",
    "dumps['geometry'] = dumps['geometry'].simplify(30)\n",
    "dumps.name = dumps.name.fillna('Без названия')\n"
   ],
   "id": "578a42a49148a849",
   "outputs": []
  },
  {
   "metadata": {
    "ExecuteTime": {
     "end_time": "2024-06-13T18:36:20.709663700Z",
     "start_time": "2024-06-13T18:35:48.803575300Z"
    }
   },
   "cell_type": "code",
   "execution_count": 18,
   "source": [
    "roads_reg = roads[roads['reg'] == 2]\n",
    "roads_reg = roads_reg.filter(items=['geometry'])\n",
    "roads_reg.to_crs(3857, inplace=True)\n",
    "roads_reg = roads_reg[~roads_reg['geometry'].duplicated()]\n",
    "roads_reg['geometry'] = roads_reg['geometry'].buffer(20)\n",
    "roads_reg = roads_reg['geometry'].unary_union\n",
    "roads_reg = gpd.GeoDataFrame([roads_reg], columns=['geometry'], crs=32636)\n",
    "roads_reg['name'] = 'Дорога регионального назначения'\n",
    "roads_reg['type'] = 'regional_road'\n",
    "roads_reg['initial_impact'] = -2\n",
    "roads_reg['total_impact_radius'] = -1000 * 2 * 0.1\n",
    "roads_reg['geometry'] = roads_reg['geometry'].simplify(30)\n",
    "# roads_reg = roads_reg.explode(index_parts=False).reset_index(drop=True)\n",
    "\n",
    "roads_fed = roads[roads['reg'] == 1]\n",
    "roads_fed = roads_fed.filter(items=['geometry'])\n",
    "roads_fed = roads_fed[~roads_fed['geometry'].duplicated()]\n",
    "roads_fed['geometry'] = roads_fed['geometry'].buffer(40)\n",
    "roads_fed = roads_fed['geometry'].unary_union\n",
    "roads_fed = gpd.GeoDataFrame([roads_fed], columns=['geometry'], crs=32636)\n",
    "roads_fed['name'] = 'Дорога федерального назначения'\n",
    "roads_fed['type'] = 'federal_road'\n",
    "roads_fed['initial_impact'] = -4\n",
    "roads_fed['total_impact_radius'] = -1000 * 4 * 0.1\n",
    "roads_fed['geometry'] = roads_fed['geometry'].simplify(30)\n",
    "# roads_fed = roads_fed.explode(index_parts=False).reset_index(drop=True)\n"
   ],
   "id": "b13aa75c926b4a01",
   "outputs": []
  },
  {
   "metadata": {
    "ExecuteTime": {
     "end_time": "2024-06-13T18:36:21.806266600Z",
     "start_time": "2024-06-13T18:36:20.712663100Z"
    }
   },
   "cell_type": "code",
   "execution_count": 19,
   "source": [
    "ZHD_gdf = zhd\n",
    "ZHD_gdf = ZHD_gdf.filter(items=['geometry'])\n",
    "ZHD_gdf = ZHD_gdf[~ZHD_gdf['geometry'].duplicated()]\n",
    "ZHD_gdf['geometry'] = ZHD_gdf['geometry'].buffer(30)\n",
    "ZHD_gdf = ZHD_gdf['geometry'].unary_union\n",
    "ZHD_gdf = gpd.GeoDataFrame(geometry=[ZHD_gdf], crs=32636)\n",
    "ZHD_gdf['name'] = 'ЖД Пути'\n",
    "ZHD_gdf['type'] = 'railway'\n",
    "ZHD_gdf['initial_impact'] = -3\n",
    "ZHD_gdf['total_impact_radius'] = -1000 * 3 * 0.1\n",
    "ZHD_gdf['geometry'] = ZHD_gdf['geometry'].simplify(30)\n"
   ],
   "id": "4a20b0088ed8152",
   "outputs": []
  },
  {
   "cell_type": "code",
   "execution_count": 21,
   "source": [
    "from shapely import MultiPolygon, unary_union\n",
    "\n",
    "water = water_base.copy()\n",
    "water.geometry = water.geometry.buffer(0)\n",
    "# border = gpd.read_file('./Ленобласть/border.geojson').to_crs(3857)\n",
    "# border = border.geometry[0]\n",
    "# water = gpd.clip(water, border.buffer(0))\n",
    "# water = water_base.copy()\n",
    "water = water.filter(items=['name', 'water', 'geometry'])\n",
    "water = water.rename(columns={'water': 'type'})\n",
    "\n",
    "water['name'] = water['name'].fillna(value='Без названия')\n",
    "\n",
    "water_without_name = water[water['name'] == 'Без названия']\n",
    "water = water[water['name'] != 'Без названия']\n",
    "\n",
    "intersect_mask = water_without_name.geometry.apply(\n",
    "    lambda geom: water.geometry.intersects(geom).any()\n",
    ")\n",
    "water_without_name = water_without_name[~intersect_mask]\n",
    "\n",
    "water = pd.concat([water, water_without_name])"
   ],
   "metadata": {
    "collapsed": false,
    "ExecuteTime": {
     "end_time": "2024-06-13T18:38:45.032764Z",
     "start_time": "2024-06-13T18:38:22.990349600Z"
    }
   },
   "id": "1c6c27709ebc70c2",
   "outputs": []
  },
  {
   "cell_type": "code",
   "execution_count": 22,
   "source": [
    "from collections import Counter\n",
    "\n",
    "\n",
    "def process_types(type_list):\n",
    "    count = Counter(type_list)\n",
    "\n",
    "    if count[None] == len(type_list):\n",
    "        return None\n",
    "\n",
    "    most_common_type = count.most_common(1)[0][0]\n",
    "    return most_common_type\n",
    "\n",
    "\n",
    "water = water.groupby('name').agg(list).reset_index()\n",
    "water['type'] = water['type'].apply(process_types)"
   ],
   "metadata": {
    "collapsed": false,
    "ExecuteTime": {
     "end_time": "2024-06-13T18:39:42.189180900Z",
     "start_time": "2024-06-13T18:39:42.096750300Z"
    }
   },
   "id": "66d3d6a113db19d8",
   "outputs": []
  },
  {
   "cell_type": "code",
   "execution_count": 23,
   "source": [
    "water_polygons = water[(water['type'] != 'river') & (water['type'] != 'stream') & (water['type'] != 'canal')]\n",
    "water_lines = water.loc[list(set(water_polygons.index.tolist()) ^ set(water.index.tolist()))]\n",
    "buf = 100\n",
    "water_lines['geometry'] = water_lines['geometry'].apply(unary_union).apply(lambda x: x.buffer(buf).buffer(-buf))\n",
    "water_lines = gpd.GeoDataFrame(water_lines, geometry='geometry', crs=3857).explode(index_parts=False).reset_index()\n",
    "top = water_lines.area.quantile(.75)\n",
    "water_lines = water_lines[water_lines.area >= top]\n",
    "water_lines['name'] = water_lines['name'].apply(lambda x: list(set(x)) if isinstance(x, list) else x)\n",
    "water_lines['type'] = water_lines['type'].apply(lambda x: list(set(x)) if isinstance(x, list) else x)\n",
    "water_lines['total_impact_radius'] = 1000 * 3 * 0.1\n",
    "\n",
    "buf = 400\n",
    "water_polygons['type'] = water_polygons['type'].fillna('undefined water')\n",
    "water_polygons['geometry'] = water_polygons['geometry'].apply(unary_union).apply(lambda x: x.buffer(buf).buffer(-buf))\n",
    "water_polygons = gpd.GeoDataFrame(water_polygons, geometry='geometry', crs=3857)\n",
    "water_polygons = water_polygons.explode(index_parts=False).reset_index()\n",
    "top = water_polygons.area.quantile(.75)\n",
    "water_polygons = water_polygons[water_polygons.area >= top]\n",
    "water_polygons['name'] = water_polygons['name'].apply(lambda x: list(set(x)) if isinstance(x, list) else x)\n",
    "water_polygons['type'] = water_polygons['type'].apply(lambda x: list(set(x)) if isinstance(x, list) else x)\n",
    "\n",
    "water_polygons['area_normalized'] = min_max_normalization(np.sqrt(water_polygons.area), 1, 2)\n",
    "water_polygons['total_impact_radius'] = np.round(1000 * 3 * 0.1 * water_polygons['area_normalized'])\n"
   ],
   "metadata": {
    "collapsed": false,
    "ExecuteTime": {
     "end_time": "2024-06-13T18:42:54.292630100Z",
     "start_time": "2024-06-13T18:39:43.698747800Z"
    }
   },
   "id": "dc1fb1e220a5306e",
   "outputs": []
  },
  {
   "cell_type": "code",
   "execution_count": 24,
   "source": [
    "def list_to_str(x):\n",
    "    if isinstance(x, list):\n",
    "        if len(x) == 0:\n",
    "            return None\n",
    "        if len(x) == 1:\n",
    "            return x[0]\n",
    "        return str(x).replace('[', '').replace(']', '').replace('\\\"', '').replace('\\'', '')\n",
    "    return x\n",
    "\n",
    "\n",
    "all_water = pd.concat([water_polygons, water_lines])\n",
    "all_water = all_water.map(list_to_str)\n",
    "all_water['initial_impact'] = 3\n",
    "all_water['geometry'] = all_water['geometry'].apply(lambda x: x.simplify(50))\n"
   ],
   "metadata": {
    "collapsed": false,
    "ExecuteTime": {
     "end_time": "2024-06-13T18:42:56.848173700Z",
     "start_time": "2024-06-13T18:42:54.294130200Z"
    }
   },
   "id": "891e47c2876ab79d",
   "outputs": []
  },
  {
   "cell_type": "code",
   "execution_count": 25,
   "source": [
    "all_wood = pd.concat([forest, recreation])\n",
    "all_wood = all_wood.filter(items=['name', 'geometry'])\n",
    "top = all_wood.area.quantile(.40)\n",
    "all_wood = all_wood[all_wood.area >= top]\n",
    "all_wood = all_wood['geometry'].buffer(800).unary_union.buffer(-800)\n",
    "all_wood = gpd.GeoDataFrame(geometry=[all_wood], crs=3857).explode(index_parts=False)\n",
    "all_wood['geometry'] = all_wood['geometry'].simplify(50)\n",
    "top = all_wood.area.quantile(.75)\n",
    "all_wood = all_wood[all_wood.area >= top]\n",
    "all_wood['name'] = 'Зелёная зона'\n",
    "all_wood['type'] = 'forest'\n",
    "all_wood['layer_impact'] = 3\n",
    "all_wood['source'] = False\n"
   ],
   "metadata": {
    "collapsed": false,
    "ExecuteTime": {
     "end_time": "2024-06-13T18:44:21.236235700Z",
     "start_time": "2024-06-13T18:42:56.851925800Z"
    }
   },
   "id": "16e13ca7c4d43c7e",
   "outputs": []
  },
  {
   "cell_type": "code",
   "execution_count": 26,
   "source": [
    "nature_reserve = nature_reserve.filter(items=['name', 'geometry'])\n",
    "nature_reserve['normalized_area'] = min_max_normalization(np.sqrt(nature_reserve.area), 1, 5)\n",
    "nature_reserve['type'] = 'nature_reserve'\n",
    "nature_reserve['geometry'] = nature_reserve['geometry'].simplify(50)\n",
    "nature_reserve['fading'] = 0.2\n",
    "nature_reserve['initial_impact'] = 5\n",
    "nature_reserve['total_impact_radius'] = np.round(1000 * nature_reserve['initial_impact'] * nature_reserve['fading'] * \\\n",
    "                                                 nature_reserve['normalized_area'])\n"
   ],
   "metadata": {
    "collapsed": false,
    "ExecuteTime": {
     "end_time": "2024-06-13T18:44:21.243735Z",
     "start_time": "2024-06-13T18:44:21.236985300Z"
    }
   },
   "id": "bbd21d68574bf55b",
   "outputs": []
  },
  {
   "cell_type": "code",
   "execution_count": 27,
   "source": [
    "from ecodonut.preprocessing import calc_layer_count\n",
    "\n",
    "industrial = gpd.GeoDataFrame(industrial, geometry='geometry', crs=3857)\n",
    "azs = gpd.GeoDataFrame(azs, geometry='geometry', crs=3857)\n",
    "dumps = gpd.GeoDataFrame(dumps, geometry='geometry', crs=3857)\n",
    "roads_fed = gpd.GeoDataFrame(roads_fed, geometry='geometry', crs=3857)\n",
    "roads_reg = gpd.GeoDataFrame(roads_reg, geometry='geometry', crs=3857)\n",
    "ZHD_gdf = gpd.GeoDataFrame(ZHD_gdf, geometry='geometry', crs=3857)\n",
    "all_water = gpd.GeoDataFrame(all_water, geometry='geometry', crs=3857)\n",
    "\n",
    "all_wood = gpd.GeoDataFrame(all_wood, geometry='geometry', crs=3857)\n",
    "\n",
    "nature_reserve = gpd.GeoDataFrame(nature_reserve, geometry='geometry', crs=3857)\n",
    "\n",
    "all_in = gpd.GeoDataFrame(pd.concat(\n",
    "    [industrial, azs, dumps, roads_reg, roads_fed, ZHD_gdf, all_water, nature_reserve], ignore_index=True),\n",
    "    geometry='geometry', crs=3857)\n",
    "all_in = all_in.filter(items=['name', 'type', 'initial_impact', 'total_impact_radius', 'geometry'])\n",
    "all_in['layers_count'] = calc_layer_count(all_in, 2, 10)"
   ],
   "metadata": {
    "collapsed": false,
    "ExecuteTime": {
     "end_time": "2024-06-13T18:47:10.224484Z",
     "start_time": "2024-06-13T18:47:10.193459500Z"
    }
   },
   "id": "e74fad230ef64481",
   "outputs": []
  },
  {
   "cell_type": "code",
   "execution_count": 28,
   "source": [
    "from ecodonut import distribute_levels, combine_geometry\n",
    "\n",
    "distributed_all = distribute_levels(all_in)\n",
    "distributed_all = gpd.GeoDataFrame(pd.concat([distributed_all, all_wood]), geometry='geometry', crs=3857)\n",
    "distributed_all = combine_geometry(distributed_all)"
   ],
   "metadata": {
    "collapsed": false,
    "ExecuteTime": {
     "end_time": "2024-06-13T18:48:48.941895700Z",
     "start_time": "2024-06-13T18:47:12.831607Z"
    }
   },
   "id": "f5f8d46e1a3a38fa",
   "outputs": []
  },
  {
   "cell_type": "code",
   "execution_count": 29,
   "source": [
    "# border = gpd.read_file('./Ленобласть/border.geojson').to_crs(3857)\n",
    "# border = border.geometry[0]\n",
    "# distributed_all2 = gpd.clip(distributed_all, border.buffer(0))\n",
    "distributed_all2 = distributed_all"
   ],
   "metadata": {
    "collapsed": false,
    "ExecuteTime": {
     "end_time": "2024-06-13T18:48:48.950896600Z",
     "start_time": "2024-06-13T18:48:48.942646100Z"
    }
   },
   "id": "7bd74f9cc192ab3b",
   "outputs": []
  },
  {
   "cell_type": "code",
   "execution_count": 30,
   "source": [
    "from ecodonut.output import collections_to_str\n",
    "\n",
    "distributed_all2 = distributed_all2.map(collections_to_str)"
   ],
   "metadata": {
    "collapsed": false,
    "ExecuteTime": {
     "end_time": "2024-06-13T18:48:50.281642100Z",
     "start_time": "2024-06-13T18:48:48.948646100Z"
    }
   },
   "id": "c7e95439bda699ec",
   "outputs": []
  },
  {
   "cell_type": "code",
   "execution_count": 31,
   "source": [
    "def replace_special(loc):\n",
    "    if isinstance(loc, str):\n",
    "        loc = loc.replace('(', '').replace(')', '').replace('[', '').replace(']', '')\n",
    "        if loc.endswith(','):\n",
    "            loc = loc[:-1]\n",
    "    return loc\n",
    "\n",
    "\n",
    "distributed_all2 = distributed_all2.map(replace_special)"
   ],
   "metadata": {
    "collapsed": false,
    "ExecuteTime": {
     "end_time": "2024-06-13T18:48:51.419809800Z",
     "start_time": "2024-06-13T18:48:50.295143200Z"
    }
   },
   "id": "a3e46c93db022ee9",
   "outputs": []
  },
  {
   "cell_type": "code",
   "execution_count": 32,
   "source": [
    "distributed_all2.to_parquet(f'eco_karkas_{city}.parquet')\n",
    "distributed_all2.to_file(f'eco_karkas_{city}.gpkg')"
   ],
   "metadata": {
    "collapsed": false,
    "ExecuteTime": {
     "end_time": "2024-06-13T18:49:33.815608600Z",
     "start_time": "2024-06-13T18:48:51.420559700Z"
    }
   },
   "id": "30bc60c8ca363999",
   "outputs": []
  },
  {
   "cell_type": "code",
   "execution_count": null,
   "source": [
    "from ecodonut import get_map\n",
    "\n",
    "get_map(distributed_all).save(f'eco_karkas_{city}.html')"
   ],
   "metadata": {
    "collapsed": false
   },
   "id": "db5ef76102c133ca",
   "outputs": []
  },
  {
   "cell_type": "code",
   "execution_count": null,
   "source": [
    "distributed_all2.to_crs(3857)"
   ],
   "metadata": {
    "collapsed": false
   },
   "id": "53ef4568f1b3ece8",
   "outputs": []
  },
  {
   "cell_type": "code",
   "execution_count": null,
   "source": [],
   "metadata": {
    "collapsed": false
   },
   "id": "3bd89e5e6711bb31",
   "outputs": []
  },
  {
   "cell_type": "code",
   "execution_count": null,
   "source": [],
   "metadata": {
    "collapsed": false
   },
   "id": "7bd4e4616a7e28a5",
   "outputs": []
  },
  {
   "cell_type": "code",
   "execution_count": null,
   "source": [],
   "metadata": {
    "collapsed": false
   },
   "id": "b368de44c4f6488e",
   "outputs": []
  }
 ],
 "metadata": {
  "kernelspec": {
   "display_name": "Python 3",
   "language": "python",
   "name": "python3"
  },
  "language_info": {
   "codemirror_mode": {
    "name": "ipython",
    "version": 2
   },
   "file_extension": ".py",
   "mimetype": "text/x-python",
   "name": "python",
   "nbconvert_exporter": "python",
   "pygments_lexer": "ipython2",
   "version": "2.7.6"
  }
 },
 "nbformat": 4,
 "nbformat_minor": 5
}
