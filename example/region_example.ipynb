{
 "cells": [
  {
   "metadata": {},
   "cell_type": "code",
   "source": [
    "from ecodonut.eco_frame import EcoFrameCalculator\n",
    "from ecodonut.eco_frame import EcoFrame\n",
    "import geopandas as gpd\n",
    "import pickle\n",
    "from ecodonut.eco_frame.output import get_map\n",
    "from ecodonut.eco_frame import mark_territory"
   ],
   "id": "3ea38d40bf781f38",
   "outputs": [],
   "execution_count": null
  },
  {
   "metadata": {},
   "cell_type": "code",
   "source": [
    "# Чтение исходных геоданных (ЖД, свалки, природные резервы, промышленные зоны, лесные массивы и водные объекты)\n",
    "\n",
    "zhd = gpd.read_file('example_data/railway_rail.geojson')\n",
    "dumps = gpd.read_file('example_data/landfill.geojson')\n",
    "nature_reserve = gpd.read_file('example_data/nature_reserve.geojson')\n",
    "industrial = gpd.read_file('example_data/industrial_tumen.geojson')\n",
    "wood = gpd.read_file('example_data/wood.geojson')\n",
    "water = gpd.read_file('example_data/water.geojson')\n",
    "\n",
    "# Загрузка границ региона\n",
    "borders = gpd.read_file('example_data/region.geojson')"
   ],
   "id": "a216c3ab1ef5feb8",
   "outputs": [],
   "execution_count": null
  },
  {
   "metadata": {},
   "cell_type": "code",
   "source": [
    "# Формирование словаря слоёв\n",
    "layers = {\n",
    "    'industrial': industrial,\n",
    "    \"gas_station\": None,\n",
    "    \"landfill\": dumps,\n",
    "    'regional_roads': None,\n",
    "    'federal_roads': None,\n",
    "    \"railway\": zhd,\n",
    "    \"nature_reserve\": nature_reserve,\n",
    "    \"water\": water,\n",
    "    'woods': wood\n",
    "}\n",
    "# Создание экологического каркаса с заданием границ\n",
    "frame: EcoFrame = EcoFrameCalculator(territory=borders).evaluate_ecoframe(layers, min_layer_count=2, max_layer_count=8)\n"
   ],
   "id": "139407fc458db1aa",
   "outputs": [],
   "execution_count": null
  },
  {
   "metadata": {},
   "cell_type": "code",
   "source": [
    "# Сохранение объекта EcoFrame в файл с помощью pickle\n",
    "pickle.dump(frame, open('tumen.pickle', 'wb'))\n",
    "# Загрузка сохранённого объекта EcoFrame из файла\n",
    "eco_frame: EcoFrame = pickle.load(open('tumen.pickle', 'rb'))"
   ],
   "id": "2ebaeafdb14e4805",
   "outputs": [],
   "execution_count": null
  },
  {
   "metadata": {},
   "cell_type": "code",
   "source": [
    "# Загрузка зоны для оценки территории\n",
    "zone = gpd.read_file('example_data/test_borders.geojson')\n",
    "# Оценка территории\n",
    "mark = mark_territory(eco_frame, zone.iloc[2:3])\n",
    "mark"
   ],
   "id": "e44a627825a23c33",
   "outputs": [],
   "execution_count": null
  },
  {
   "metadata": {},
   "cell_type": "code",
   "source": [
    "from ecodonut.eco_frame import concat_ecoframes\n",
    "# Пример добавления объекта через создание нового эко-каркаса и объединения с основным\n",
    "azs = gpd.read_file('example_data/fuel.geojson')\n",
    "borders = gpd.read_file('example_data/region.geojson')\n",
    "layers = {\n",
    "    \"gas_station\": azs,\n",
    "}\n",
    "frame_add: EcoFrame = EcoFrameCalculator(territory=borders, settings_from=eco_frame).evaluate_ecoframe(layers)\n",
    "new_frame = concat_ecoframes(eco_frame, frame_add)"
   ],
   "id": "cd5c498eb4b61455",
   "outputs": [],
   "execution_count": null
  }
 ],
 "metadata": {
  "kernelspec": {
   "display_name": "Python 3",
   "language": "python",
   "name": "python3"
  },
  "language_info": {
   "codemirror_mode": {
    "name": "ipython",
    "version": 2
   },
   "file_extension": ".py",
   "mimetype": "text/x-python",
   "name": "python",
   "nbconvert_exporter": "python",
   "pygments_lexer": "ipython2",
   "version": "2.7.6"
  }
 },
 "nbformat": 4,
 "nbformat_minor": 5
}
