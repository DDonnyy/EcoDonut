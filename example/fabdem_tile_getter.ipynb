{
 "cells": [
  {
   "cell_type": "code",
   "id": "initial_id",
   "metadata": {
    "collapsed": true
   },
   "source": [
    "from pathlib import Path\n",
    "import geopandas as gpd\n",
    "from ecodonut.landscape_vectorizer import (\n",
    "    stitch_height_isolines, stitch_height_polygons,\n",
    "    stitch_slope_polygons, stitch_aspect_polygons,\n",
    ")\n",
    "\n",
    "zone = gpd.read_file(\"example_data/project_zone.geojson\")\n",
    "zone.geometry = zone.to_crs(zone.estimate_utm_crs()).geometry.buffer(5000).to_crs(zone.crs) # to create buffer\n",
    "tiles = gpd.read_parquet(\"example_data/fabdem_tiles.parquet\")\n",
    "vectors_dir = Path(\"D://fabdem_tiles_russia\")\n",
    "\n",
    "# 1) Изолинии\n",
    "iso = stitch_height_isolines(zone, tiles, vectors_dir, height_step=5)\n",
    "\n",
    "# 2) Полигоны высоты\n",
    "highpoly = stitch_height_polygons(zone, tiles, vectors_dir, height_step=5)\n",
    "\n",
    "# 3) Уклон\n",
    "slope = stitch_slope_polygons(zone, tiles, vectors_dir, slope_step_deg=5)\n",
    "\n",
    "# 4) Экспозиция\n",
    "aspect = stitch_aspect_polygons(zone, tiles, vectors_dir, aspect_step_deg=90)"
   ],
   "outputs": [],
   "execution_count": null
  }
 ],
 "metadata": {
  "kernelspec": {
   "display_name": "Python 3",
   "language": "python",
   "name": "python3"
  },
  "language_info": {
   "codemirror_mode": {
    "name": "ipython",
    "version": 2
   },
   "file_extension": ".py",
   "mimetype": "text/x-python",
   "name": "python",
   "nbconvert_exporter": "python",
   "pygments_lexer": "ipython2",
   "version": "2.7.6"
  }
 },
 "nbformat": 4,
 "nbformat_minor": 5
}
