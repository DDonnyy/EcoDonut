{
 "cells": [
  {
   "cell_type": "code",
   "id": "initial_id",
   "metadata": {
    "collapsed": true,
    "ExecuteTime": {
     "end_time": "2025-08-22T14:41:41.296896Z",
     "start_time": "2025-08-22T14:41:41.288816Z"
    }
   },
   "source": [
    "from pathlib import Path\n",
    "\n",
    "DATA_DIR = Path('\"C:/Users/olein/Documents/EcoDonut/russia_vectors/fabdem_data\"')    # папка с распакованными тайлами FABDEM (*.tif)\n",
    "OUT_DIR  = Path('fabdem_tiles_russia')                   # куда писать результаты (GeoParquet)\n",
    "LOG_CSV  = Path('fabdem_processing_log.csv')             # CSV лог\n",
    "TILES_INDEX = Path('example_data/fabdem_tiles.parquet')          # индекс тайлов (геометрии + file_name)\n",
    "REGIONS_GEOJSON = Path('example_data/russia_regions.geojson')                     # регионы РФ (полигональная маска)\n",
    "\n",
    "OUT_DIR.mkdir(parents=True, exist_ok=True)\n",
    "\n",
    "print('DATA_DIR =', DATA_DIR.resolve())\n",
    "print('OUT_DIR  =', OUT_DIR.resolve())\n",
    "print('LOG_CSV  =', LOG_CSV.resolve())\n"
   ],
   "outputs": [
    {
     "name": "stdout",
     "output_type": "stream",
     "text": [
      "DATA_DIR = C:\\Users\\olein\\Documents\\EcoDonut\\example\\\"C:\\Users\\olein\\Documents\\EcoDonut\\russia_vectors\\fabdem_data\"\n",
      "OUT_DIR  = C:\\Users\\olein\\Documents\\EcoDonut\\example\\fabdem_tiles_russia\n",
      "LOG_CSV  = C:\\Users\\olein\\Documents\\EcoDonut\\example\\fabdem_processing_log.csv\n"
     ]
    }
   ],
   "execution_count": 1
  },
  {
   "metadata": {
    "ExecuteTime": {
     "end_time": "2025-08-22T14:42:57.990481Z",
     "start_time": "2025-08-22T14:42:54.741989Z"
    }
   },
   "cell_type": "code",
   "source": [
    "\n",
    "from ecodonut.landscape_vectorizer import vectorize_fabdem_tiles\n",
    "import geopandas as gpd\n",
    "import pandas as pd\n",
    "\n",
    "tiles_gdf = gpd.read_parquet(TILES_INDEX)\n",
    "regions_gdf = gpd.read_file(REGIONS_GEOJSON)\n",
    "\n",
    "if tiles_gdf.crs != regions_gdf.crs:\n",
    "    regions_gdf = regions_gdf.to_crs(tiles_gdf.crs)\n"
   ],
   "id": "ed2b3b7977d46af2",
   "outputs": [],
   "execution_count": 2
  },
  {
   "metadata": {},
   "cell_type": "code",
   "outputs": [],
   "execution_count": null,
   "source": [
    "\n",
    "\n",
    "REGION_NAME_COL = 'Наименование'\n",
    "example_region_name = regions_gdf.iloc[0][REGION_NAME_COL]\n",
    "\n",
    "filter_gdf = regions_gdf[regions_gdf[REGION_NAME_COL] == example_region_name][['geometry']].copy()\n",
    "\n",
    "# Параметры векторизации\n",
    "height_step = 5.0          # шаг по высоте (м) для изолиний/полигонов\n",
    "slope_step_deg = 5.0       # шаг классов уклона (градусы)\n",
    "smooth_sigma_slope = 1.0   # сглаживание перед расчётом уклона\n",
    "aspect_step_deg = 90.0     # ширина бинов аспекта (напр., 90 -> N/E/S/W)\n",
    "smooth_sigma_aspect = 1.0  # сглаживание перед расчётом аспекта\n",
    "\n",
    "max_workers = 6            # число процессов-воркеров\n",
    "skip_existing = True       # не пересчитывать уже существующие тайлы\n",
    "\n",
    "# Режимы отбора тайлов:\n",
    "#  1) Все .tif из DATA_DIR:    tiles_gdf=None, filter_gdf=None\n",
    "#  2) По регионам (пересечение): tiles_gdf=tiles_gdf, filter_gdf=filter_gdf\n",
    "\n",
    "vectorize_fabdem_tiles(\n",
    "    data_dir=DATA_DIR,\n",
    "    out_dir=OUT_DIR,\n",
    "    log_csv=LOG_CSV,\n",
    "    tiles_gdf=tiles_gdf,\n",
    "    filter_gdf=filter_gdf,\n",
    "    height_step=height_step,\n",
    "    slope_step_deg=slope_step_deg,\n",
    "    smooth_sigma_slope=smooth_sigma_slope,\n",
    "    aspect_step_deg=aspect_step_deg,\n",
    "    smooth_sigma_aspect=smooth_sigma_aspect,\n",
    "    max_workers=max_workers,\n",
    "    skip_existing=skip_existing,\n",
    ")\n",
    "\n",
    "print('Готово. Лог:', LOG_CSV.resolve())\n"
   ],
   "id": "78b5e11199eed9bc"
  },
  {
   "metadata": {},
   "cell_type": "code",
   "outputs": [],
   "execution_count": null,
   "source": [
    "\n",
    "log_df = pd.read_csv(LOG_CSV, dtype=str)\n",
    "display(log_df.tail(10))\n",
    "\n",
    "# Быстрый сбор примеров слоёв из OUT_DIR\n",
    "from pathlib import Path\n",
    "some_layers = list(Path(OUT_DIR).glob('*_height_polygons_*m.parquet'))[:3]\n",
    "some_layers\n"
   ],
   "id": "f9a05bdb6fee51a4"
  },
  {
   "metadata": {},
   "cell_type": "code",
   "outputs": [],
   "execution_count": null,
   "source": [
    "\n",
    "# Превью одного слоя (если найден)\n",
    "import geopandas as gpd\n",
    "\n",
    "if some_layers:\n",
    "    sample = some_layers[0]\n",
    "    print('Preview layer:', sample)\n",
    "    gdf = gpd.read_parquet(sample)\n",
    "    display(gdf.head())\n",
    "    # gdf.explore(column='height')  # интерактивная карта (в Jupyter Lab/Notebook с поддержкой)\n",
    "else:\n",
    "    print('Нет примеров слоёв для превью.')\n"
   ],
   "id": "b3b0febafe926acb"
  },
  {
   "metadata": {},
   "cell_type": "markdown",
   "source": [
    "\n",
    "### Заметки\n",
    "- Выходные файлы пишутся в формате **GeoParquet** в папку `OUT_DIR` (один файл на тайл и тип слоя).\n",
    "- Имена формируются так:\n",
    "  - `{tile}_height_iso_lines_{height_step}m.parquet`\n",
    "  - `{tile}_height_polygons_{height_step}m.parquet`\n",
    "  - `{tile}_slope_deg_polygons_{slope_step_deg}deg.parquet`\n",
    "  - `{tile}_aspect_{aspect_step_deg}deg_polygons.parquet`\n",
    "- Инкрементальный лог — CSV с путями и ошибками по каждому тайлу: `LOG_CSV`.\n",
    "- Повторный запуск с `skip_existing=True` пропускает уже рассчитанные тайлы.\n"
   ],
   "id": "5e853e3d14d3270f"
  }
 ],
 "metadata": {
  "kernelspec": {
   "display_name": "Python 3",
   "language": "python",
   "name": "python3"
  },
  "language_info": {
   "codemirror_mode": {
    "name": "ipython",
    "version": 2
   },
   "file_extension": ".py",
   "mimetype": "text/x-python",
   "name": "python",
   "nbconvert_exporter": "python",
   "pygments_lexer": "ipython2",
   "version": "2.7.6"
  }
 },
 "nbformat": 4,
 "nbformat_minor": 5
}
