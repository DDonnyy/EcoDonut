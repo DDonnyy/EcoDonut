{
 "cells": [
  {
   "metadata": {},
   "cell_type": "code",
   "source": [
    "%load_ext autoreload\n",
    "%autoreload 2\n",
    "from ecodonut.eco_frame import EcoFrameCalculator, mark_territory, get_influencers_in_point, EcoFrame, LayerOptions,merge_ecoframes\n",
    "import geopandas as gpd\n",
    "import pickle\n"
   ],
   "id": "3ea38d40bf781f38",
   "outputs": [],
   "execution_count": null
  },
  {
   "metadata": {},
   "cell_type": "markdown",
   "source": "## Создание эко-каркаса с нуля",
   "id": "267de94573370419"
  },
  {
   "metadata": {},
   "cell_type": "code",
   "source": [
    "# Чтение исходных геоданных (ЖД, свалки, природные резервы, промышленные зоны, лесные массивы и водные объекты) и формирование словаря слоёв\n",
    "\n",
    "layers = {\n",
    "    # 'industrial': gpd.read_parquet('example_data/industrial_lo_spb.parquet'), # Индастриал добавим позже для демонстрации работы соеднения каркасов\n",
    "    \"gas_station\": gpd.read_parquet('example_data/gas_station_lo_spb.parquet'),\n",
    "    \"landfill\": gpd.read_parquet('example_data/landfill_lo_spb.parquet'),\n",
    "    'regional_roads': gpd.read_parquet('example_data/regional_roads_lo_spb.parquet'),\n",
    "    'federal_roads': gpd.read_parquet('example_data/federal_roads_lo_spb.parquet'),\n",
    "    \"nature_reserve\": gpd.read_parquet('example_data/nature_reserve_lo_spb.parquet'),\n",
    "    'woods': gpd.read_parquet('example_data/woods_lo_spb.parquet'),\n",
    "    \"water\": gpd.read_parquet('example_data/water_lo_spb.parquet'),\n",
    "\n",
    "    \"railway\": gpd.GeoDataFrame(),\n",
    "}\n",
    "# Загрузка границ региона\n",
    "borders = gpd.read_file('example_data/lo_bounds.geojson')\n",
    "\n",
    "# Создание экологического каркаса с заданием границ\n",
    "eco_frame: EcoFrame = EcoFrameCalculator(territory=borders).evaluate_ecoframe(layers, min_layer_count=2,\n",
    "                                                                              max_layer_count=8)\n"
   ],
   "id": "139407fc458db1aa",
   "outputs": [],
   "execution_count": null
  },
  {
   "metadata": {},
   "cell_type": "code",
   "source": [
    "# Сохранение объекта EcoFrame в файл с помощью pickle\n",
    "pickle.dump(eco_frame, open('eco_frame_spb.pickle', 'wb'))"
   ],
   "id": "c46d06e1583c72bd",
   "outputs": [],
   "execution_count": null
  },
  {
   "metadata": {},
   "cell_type": "code",
   "source": [
    "\n",
    "# Загрузка сохранённого объекта EcoFrame из файла\n",
    "eco_frame: EcoFrame = pickle.load(open('eco_frame_spb.pickle', 'rb'))"
   ],
   "id": "a35bbfc7769a577b",
   "outputs": [],
   "execution_count": null
  },
  {
   "metadata": {},
   "cell_type": "code",
   "source": [
    "# Сохранение GeoDataFrame экокаркаса в .gpkg\n",
    "eco_frame.eco_frame.to_file('eco_frame_full.gpkg')"
   ],
   "id": "8460569a64f4a5dd",
   "outputs": [],
   "execution_count": null
  },
  {
   "metadata": {},
   "cell_type": "markdown",
   "source": "### Оценка территории",
   "id": "5f52255995c4e941"
  },
  {
   "metadata": {},
   "cell_type": "code",
   "source": [
    "# Загрузка зоны для оценки территории\n",
    "project_zone = gpd.read_file('example_data/project Шлиссельбург.geojson')\n",
    "\n",
    "# Оценка территории\n",
    "mark = mark_territory(eco_frame, project_zone)\n",
    "mark"
   ],
   "id": "413d0ca23ded7a3",
   "outputs": [],
   "execution_count": null
  },
  {
   "metadata": {},
   "cell_type": "markdown",
   "source": "### Объекты в точке(геометрии)",
   "id": "14c16ff40ed1614f"
  },
  {
   "metadata": {},
   "cell_type": "code",
   "source": [
    "from shapely import Point\n",
    "\n",
    "point = gpd.GeoDataFrame(geometry=[Point(352932.23, 6643489.22)], crs=32636)\n",
    "influencers = get_influencers_in_point(eco_frame, point, around_buffer=5)\n",
    "influencers"
   ],
   "id": "90fd2af6c588ea9a",
   "outputs": [],
   "execution_count": null
  },
  {
   "metadata": {},
   "cell_type": "markdown",
   "source": "# Создание эко-каркаса с настройками существующего и их соедиение",
   "id": "f6def651047baa58"
  },
  {
   "metadata": {},
   "cell_type": "code",
   "source": [
    "layers = {\n",
    "    'industrial': gpd.read_parquet('example_data/industrial_lo_spb.parquet'), # Индастриал добавим позже для демонстрации работы соеднения каркасов\n",
    "}\n",
    "borders = gpd.read_file('example_data/lo_bounds.geojson')\n",
    "\n",
    "eco_frame_only_industrial: EcoFrame = EcoFrameCalculator(territory=borders,settings_from=eco_frame).evaluate_ecoframe(layers, min_layer_count=2,\n",
    "                                                                              max_layer_count=8)"
   ],
   "id": "97cfdefdb440dfe6",
   "outputs": [],
   "execution_count": null
  },
  {
   "metadata": {},
   "cell_type": "markdown",
   "source": "### Соединение двух каркасов в рамках территории",
   "id": "c7318e2187865704"
  },
  {
   "metadata": {},
   "cell_type": "code",
   "source": [
    "project_zone = gpd.read_file('example_data/project Шлиссельбург.geojson')\n",
    "\n",
    "# merged_ecoframe:EcoFrame = merge_ecoframes(eco_frame,eco_frame_only_industrial) # merge two ecoframes at all\n",
    "\n",
    "merged_ecoframe:EcoFrame = merge_ecoframes(eco_frame,eco_frame_only_industrial,project_zone)"
   ],
   "id": "374534070bd7a54c",
   "outputs": [],
   "execution_count": null
  },
  {
   "metadata": {},
   "cell_type": "code",
   "source": "merged_ecoframe.eco_frame.to_file('eco_frame_full_merge.gpkg')",
   "id": "dc2e72fd0fea715a",
   "outputs": [],
   "execution_count": null
  },
  {
   "metadata": {},
   "cell_type": "markdown",
   "source": "## Антропогенное воздействие по почве от предприятий с классом опасности",
   "id": "4c667381caf6b585"
  },
  {
   "metadata": {},
   "cell_type": "code",
   "source": [
    "\n",
    "\n",
    "industrial = gpd.read_parquet('example_data/industrial_lo_spb.parquet')\n",
    "layers = {\n",
    "    'industrial': industrial.iloc[[1]],\n",
    "}\n",
    "\n",
    "\n",
    "def _industrial_danglvl_to_init(dang_lvl: int):\n",
    "    init_values = {1: -10, 2: -8, 3: -6, 4: -4}\n",
    "    return init_values.get(dang_lvl, -2)\n",
    "\n",
    "\n",
    "def _industrial_danglvl_to_fading(dang_lvl: int):\n",
    "    fading_values = {1: 0.2, 2: 0.1, 3: 0.05, 4: 0.01}\n",
    "    return fading_values.get(dang_lvl, 0.005)\n",
    "\n",
    "\n",
    "def _calculate_impact(impact_list: list, min_value, **kwargs) -> float:\n",
    "    if len(impact_list) == 1:\n",
    "        return impact_list[0]\n",
    "    negative_list = sorted([abs(x) for x in impact_list if x < 0])\n",
    "    total_negative = min(min(negative_list), abs(min_value))\n",
    "    return - total_negative\n",
    "\n",
    "\n",
    "borders = gpd.read_file('example_data/lo_bounds.geojson')\n",
    "layers_options = {\n",
    "    \"industrial\": LayerOptions(\n",
    "        initial_impact=(\"dangerous_level\", _industrial_danglvl_to_init),\n",
    "        fading=(\"dangerous_level\", _industrial_danglvl_to_fading),\n",
    "        russian_name=\"Промышленный объект\",\n",
    "    )\n",
    "}\n",
    "# Создание потенциального распространения загрязнения по почве от ПОО \n",
    "frame: EcoFrame = EcoFrameCalculator(territory=borders, layer_options=layers_options,\n",
    "                                     impact_calculator=_calculate_impact).evaluate_ecoframe(layers, min_layer_count=3,\n",
    "                                                                                            max_layer_count=6)\n"
   ],
   "id": "ab98d514bc437d9a",
   "outputs": [],
   "execution_count": null
  }
 ],
 "metadata": {
  "kernelspec": {
   "display_name": "Python 3",
   "language": "python",
   "name": "python3"
  },
  "language_info": {
   "codemirror_mode": {
    "name": "ipython",
    "version": 2
   },
   "file_extension": ".py",
   "mimetype": "text/x-python",
   "name": "python",
   "nbconvert_exporter": "python",
   "pygments_lexer": "ipython2",
   "version": "2.7.6"
  }
 },
 "nbformat": 4,
 "nbformat_minor": 5
}
