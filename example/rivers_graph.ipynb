{
 "cells": [
  {
   "cell_type": "code",
   "id": "initial_id",
   "metadata": {
    "collapsed": true
   },
   "source": [
    "import geopandas as gpd\n",
    "\n",
    "rivers = gpd.read_file('example_data/rivers.gpkg')\n",
    "water = gpd.read_file('example_data/water.gpkg')"
   ],
   "outputs": [],
   "execution_count": null
  },
  {
   "metadata": {},
   "cell_type": "code",
   "source": [
    "from ecodonut.river_graph import construct_water_graph\n",
    "\n",
    "water_graph = construct_water_graph(rivers, water)"
   ],
   "id": "511972a5ac5edb2b",
   "outputs": [],
   "execution_count": null
  },
  {
   "metadata": {},
   "cell_type": "code",
   "source": [
    "import pickle\n",
    "import networkx as nx\n",
    "\n",
    "pickle.dump(water_graph, open('water_graph.pickle', 'wb'))\n"
   ],
   "id": "4d6a332ae80b3284",
   "outputs": [],
   "execution_count": null
  },
  {
   "metadata": {},
   "cell_type": "code",
   "source": [
    "import pickle\n",
    "import networkx as nx\n",
    "\n"
   ],
   "id": "a779007cc828fefb",
   "outputs": [],
   "execution_count": null
  },
  {
   "metadata": {},
   "cell_type": "code",
   "source": [
    "%load_ext autoreload\n",
    "%autoreload 2\n",
    "from ecodonut.river_graph import simulate_spill\n",
    "import geopandas as gpd\n",
    "\n",
    "# Симуляция разлива от gdf по направленному графу. Загрязнение задаётся в столбце pollution для каждого источника\n",
    "industrial = gpd.read_file('example_data/Ленобласть_industrial.geojson')\n",
    "industrial['pollution'] = industrial['dangerous_level'] * 100000\n",
    "spill = simulate_spill(industrial, water_graph,min_dist_to_river=250,return_only_polluted=False)"
   ],
   "id": "87aae2b34084d2ae",
   "outputs": [],
   "execution_count": null
  },
  {
   "metadata": {},
   "cell_type": "code",
   "source": [
    "m = spill.explore(column='remain', cmap='autumn_r', tiles='CartoDB positron')\n",
    "industrial[industrial['dist'] <= 100].explore(m=m, color='purple')\n",
    "m.save('water_graph.html')"
   ],
   "id": "3a0bbb6353a1168f",
   "outputs": [],
   "execution_count": null
  },
  {
   "metadata": {},
   "cell_type": "code",
   "source": [
    "lo = gpd.read_file('example_data/lo.geojson').to_crs(32636)\n",
    "spill2=  spill.clip(lo)\n",
    "industrial2 = industrial.clip(lo)"
   ],
   "id": "c0449f486261dc2a",
   "outputs": [],
   "execution_count": null
  },
  {
   "metadata": {},
   "cell_type": "code",
   "source": [
    "# spill2.to_file('water_spill_lo3.gpkg')\n",
    "industrial2[industrial2['dist'] <= 250].to_file('water_spill_industrial.gpkg')"
   ],
   "id": "1ea32c0e148f5e1f",
   "outputs": [],
   "execution_count": null
  }
 ],
 "metadata": {
  "kernelspec": {
   "display_name": "Python 3",
   "language": "python",
   "name": "python3"
  },
  "language_info": {
   "codemirror_mode": {
    "name": "ipython",
    "version": 2
   },
   "file_extension": ".py",
   "mimetype": "text/x-python",
   "name": "python",
   "nbconvert_exporter": "python",
   "pygments_lexer": "ipython2",
   "version": "2.7.6"
  }
 },
 "nbformat": 4,
 "nbformat_minor": 5
}
