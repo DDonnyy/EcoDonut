{
 "cells": [
  {
   "cell_type": "code",
   "id": "initial_id",
   "metadata": {
    "collapsed": true
   },
   "source": [
    "import geopandas as gpd\n",
    "\n",
    "rivers = gpd.read_file('example_data/rivers.gpkg')\n",
    "water = gpd.read_file('example_data/water.gpkg')"
   ],
   "outputs": [],
   "execution_count": null
  },
  {
   "metadata": {},
   "cell_type": "code",
   "source": [
    "from ecodonut.river_graph import construct_water_graph\n",
    "\n",
    "water_graph = construct_water_graph(rivers, water)"
   ],
   "id": "511972a5ac5edb2b",
   "outputs": [],
   "execution_count": null
  },
  {
   "metadata": {},
   "cell_type": "code",
   "source": [
    "import pickle\n",
    "import networkx as nx\n",
    "\n",
    "pickle.dump(water_graph, open('water_graph.pickle', 'wb'))\n",
    "water_graph_p: nx.DiGraph = pickle.load(open('water_graph.pickle', 'rb'))"
   ],
   "id": "4d6a332ae80b3284",
   "outputs": [],
   "execution_count": null
  },
  {
   "metadata": {},
   "cell_type": "code",
   "source": [
    "%load_ext autoreload\n",
    "%autoreload 2\n",
    "from ecodonut.river_graph import simulate_spill\n",
    "\n",
    "# Симуляция разлива от gdf по направленному графу. Загрязнение задаётся в столбце pollution для каждого источника\n",
    "industrial = gpd.read_file('example_data/industrial.geojson')\n",
    "industrial['pollution'] = industrial['dangerous_level'] * 100000\n",
    "spill = simulate_spill(industrial, water_graph)"
   ],
   "id": "87aae2b34084d2ae",
   "outputs": [],
   "execution_count": null
  },
  {
   "metadata": {},
   "cell_type": "code",
   "source": [
    "m = spill.explore(column='remain', cmap='autumn_r', tiles='CartoDB positron')\n",
    "industrial[industrial['dist'] <= 100].explore(m=m, color='purple')"
   ],
   "id": "3a0bbb6353a1168f",
   "outputs": [],
   "execution_count": null
  }
 ],
 "metadata": {
  "kernelspec": {
   "display_name": "Python 3",
   "language": "python",
   "name": "python3"
  },
  "language_info": {
   "codemirror_mode": {
    "name": "ipython",
    "version": 2
   },
   "file_extension": ".py",
   "mimetype": "text/x-python",
   "name": "python",
   "nbconvert_exporter": "python",
   "pygments_lexer": "ipython2",
   "version": "2.7.6"
  }
 },
 "nbformat": 4,
 "nbformat_minor": 5
}
