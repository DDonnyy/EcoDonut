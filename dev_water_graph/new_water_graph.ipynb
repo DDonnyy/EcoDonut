{
 "cells": [
  {
   "cell_type": "code",
   "id": "initial_id",
   "metadata": {
    "collapsed": true
   },
   "source": [
    "import geopandas as gpd\n",
    "\n",
    "lines = gpd.read_file('water_lines.gpkg')\n",
    "\n",
    "polygons = gpd.read_file('water_polygons.gpkg')\n",
    "\n"
   ],
   "outputs": [],
   "execution_count": null
  },
  {
   "metadata": {},
   "cell_type": "markdown",
   "source": [
    "Из базовых идей:\n",
    "1. Продлеваем реки немного и sjoin на пересечение с водой, фильтруем воду, геомку возвращаем.\n",
    "2. Для больших озёр, не рек строим как у стива разбиение полигона - получаем точки и ещё раз вороного сверху, получаем озеро, теоретически разбитое ровненько по блокам одинаковым, в теории\n",
    "3."
   ],
   "id": "f9880c51ab29e46a"
  },
  {
   "metadata": {},
   "cell_type": "code",
   "source": "",
   "id": "5053b411c2242084",
   "outputs": [],
   "execution_count": null
  }
 ],
 "metadata": {
  "kernelspec": {
   "display_name": "Python 3",
   "language": "python",
   "name": "python3"
  },
  "language_info": {
   "codemirror_mode": {
    "name": "ipython",
    "version": 2
   },
   "file_extension": ".py",
   "mimetype": "text/x-python",
   "name": "python",
   "nbconvert_exporter": "python",
   "pygments_lexer": "ipython2",
   "version": "2.7.6"
  }
 },
 "nbformat": 4,
 "nbformat_minor": 5
}
