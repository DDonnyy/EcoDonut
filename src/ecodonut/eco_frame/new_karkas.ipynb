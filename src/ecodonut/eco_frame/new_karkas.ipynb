{
 "cells": [
  {
   "cell_type": "code",
   "id": "initial_id",
   "metadata": {
    "collapsed": true,
    "ExecuteTime": {
     "end_time": "2025-03-24T14:24:57.045592Z",
     "start_time": "2025-03-24T14:24:56.273486Z"
    }
   },
   "source": [
    "%load_ext autoreload\n",
    "%autoreload 2\n",
    "from ecodonut.eco_frame import EcoFrameCalculator, EcoFrame\n",
    "from ecodonut.eco_frame import LayerOptions, default_layers_options\n",
    "import geopandas as gpd\n",
    "\n",
    "layers = {\n",
    "    'industrial': gpd.read_parquet('data/industrial_lo_spb.parquet'),\n",
    "    \"gas_station\": gpd.read_parquet('data/gas_station_lo_spb.parquet'),\n",
    "    \"landfill\": gpd.read_parquet('data/landfill_lo_spb.parquet'),\n",
    "    'regional_roads': gpd.read_parquet('data/regional_roads_lo_spb.parquet'),\n",
    "    'federal_roads': gpd.read_parquet('data/federal_roads_lo_spb.parquet'),\n",
    "    \"nature_reserve\": gpd.read_parquet('data/nature_reserve_lo_spb.parquet'),\n",
    "    'woods': gpd.read_parquet('data/woods_lo_spb.parquet'),\n",
    "\n",
    "    # \"railway\": gpd.read_parquet('data/industrial_lo_spb.parquet'),\n",
    "    \"water\": gpd.read_parquet('data/water_lo_spb.parquet'),\n",
    "}\n",
    "borders = gpd.read_file('data/lo_bounds.geojson')"
   ],
   "outputs": [
    {
     "name": "stdout",
     "output_type": "stream",
     "text": [
      "The autoreload extension is already loaded. To reload it, use:\n",
      "  %reload_ext autoreload\n"
     ]
    }
   ],
   "execution_count": 11
  },
  {
   "metadata": {
    "ExecuteTime": {
     "end_time": "2025-03-24T14:29:57.524070Z",
     "start_time": "2025-03-24T14:24:57.046597Z"
    }
   },
   "cell_type": "code",
   "source": [
    "frame = EcoFrameCalculator(territory=borders).evaluate_ecoframe(layers, min_layer_count=2, max_layer_count=8,\n",
    "                                                                multiprocess=False)"
   ],
   "id": "8530d57537c08a42",
   "outputs": [
    {
     "name": "stderr",
     "output_type": "stream",
     "text": [
      "\u001B[32m2025-03-24 17:24:57.196\u001B[0m | \u001B[34m\u001B[1mDEBUG   \u001B[0m | \u001B[36mecodonut.eco_frame.eco_frame\u001B[0m:\u001B[36m_process_layer\u001B[0m:\u001B[36m253\u001B[0m - \u001B[34m\u001B[1mProcessing layer \"industrial\"\u001B[0m\n",
      "\u001B[32m2025-03-24 17:24:57.198\u001B[0m | \u001B[34m\u001B[1mDEBUG   \u001B[0m | \u001B[36mecodonut.eco_frame.eco_frame\u001B[0m:\u001B[36m_process_layer\u001B[0m:\u001B[36m253\u001B[0m - \u001B[34m\u001B[1mProcessing layer \"gas_station\"\u001B[0m\n",
      "\u001B[32m2025-03-24 17:24:57.198\u001B[0m | \u001B[34m\u001B[1mDEBUG   \u001B[0m | \u001B[36mecodonut.eco_frame.eco_frame\u001B[0m:\u001B[36m_process_layer\u001B[0m:\u001B[36m253\u001B[0m - \u001B[34m\u001B[1mProcessing layer \"landfill\"\u001B[0m\n",
      "\u001B[32m2025-03-24 17:24:57.210\u001B[0m | \u001B[34m\u001B[1mDEBUG   \u001B[0m | \u001B[36mecodonut.eco_frame.eco_frame\u001B[0m:\u001B[36m_process_layer\u001B[0m:\u001B[36m253\u001B[0m - \u001B[34m\u001B[1mProcessing layer \"regional_roads\"\u001B[0m\n",
      "\u001B[32m2025-03-24 17:24:57.212\u001B[0m | \u001B[34m\u001B[1mDEBUG   \u001B[0m | \u001B[36mecodonut.eco_frame.eco_frame\u001B[0m:\u001B[36m_process_layer\u001B[0m:\u001B[36m253\u001B[0m - \u001B[34m\u001B[1mProcessing layer \"federal_roads\"\u001B[0m\n"
     ]
    },
    {
     "data": {
      "text/plain": [
       "  0%|          | 0/8 [00:00<?, ?it/s]"
      ],
      "application/vnd.jupyter.widget-view+json": {
       "version_major": 2,
       "version_minor": 0,
       "model_id": "d441c956966f4d00a7128d015904872e"
      }
     },
     "metadata": {},
     "output_type": "display_data"
    },
    {
     "name": "stderr",
     "output_type": "stream",
     "text": [
      "\u001B[32m2025-03-24 17:24:57.214\u001B[0m | \u001B[34m\u001B[1mDEBUG   \u001B[0m | \u001B[36mecodonut.eco_frame.eco_frame\u001B[0m:\u001B[36m_process_layer\u001B[0m:\u001B[36m253\u001B[0m - \u001B[34m\u001B[1mProcessing layer \"nature_reserve\"\u001B[0m\n",
      "\u001B[32m2025-03-24 17:24:57.224\u001B[0m | \u001B[34m\u001B[1mDEBUG   \u001B[0m | \u001B[36mecodonut.eco_frame.eco_frame\u001B[0m:\u001B[36m_process_layer\u001B[0m:\u001B[36m253\u001B[0m - \u001B[34m\u001B[1mProcessing layer \"woods\"\u001B[0m\n",
      "\u001B[32m2025-03-24 17:24:57.234\u001B[0m | \u001B[34m\u001B[1mDEBUG   \u001B[0m | \u001B[36mecodonut.eco_frame.eco_frame\u001B[0m:\u001B[36m_process_layer\u001B[0m:\u001B[36m253\u001B[0m - \u001B[34m\u001B[1mProcessing layer \"water\"\u001B[0m\n",
      "\u001B[32m2025-03-24 17:24:57.950\u001B[0m | \u001B[34m\u001B[1mDEBUG   \u001B[0m | \u001B[36mecodonut.eco_frame.eco_frame\u001B[0m:\u001B[36m_process_layer\u001B[0m:\u001B[36m267\u001B[0m - \u001B[34m\u001B[1mCreating union for layer water in radius 50\u001B[0m\n",
      "\u001B[32m2025-03-24 17:24:58.241\u001B[0m | \u001B[34m\u001B[1mDEBUG   \u001B[0m | \u001B[36mecodonut.eco_frame.eco_frame\u001B[0m:\u001B[36m_process_layer\u001B[0m:\u001B[36m267\u001B[0m - \u001B[34m\u001B[1mCreating union for layer woods in radius 250\u001B[0m\n",
      "\u001B[32m2025-03-24 17:24:59.291\u001B[0m | \u001B[34m\u001B[1mDEBUG   \u001B[0m | \u001B[36mecodonut.eco_frame.eco_frame\u001B[0m:\u001B[36m_process_layer\u001B[0m:\u001B[36m267\u001B[0m - \u001B[34m\u001B[1mCreating union for layer federal_roads in radius 0\u001B[0m\n",
      "\u001B[32m2025-03-24 17:25:00.617\u001B[0m | \u001B[34m\u001B[1mDEBUG   \u001B[0m | \u001B[36mecodonut.eco_frame.eco_frame\u001B[0m:\u001B[36m_process_layer\u001B[0m:\u001B[36m267\u001B[0m - \u001B[34m\u001B[1mCreating union for layer regional_roads in radius 0\u001B[0m\n",
      "\u001B[32m2025-03-24 17:27:11.040\u001B[0m | \u001B[34m\u001B[1mDEBUG   \u001B[0m | \u001B[36mecodonut.eco_frame.eco_frame\u001B[0m:\u001B[36mevaluate_ecoframe\u001B[0m:\u001B[36m187\u001B[0m - \u001B[34m\u001B[1mCalculation layer's count...\u001B[0m\n",
      "\u001B[32m2025-03-24 17:27:11.042\u001B[0m | \u001B[34m\u001B[1mDEBUG   \u001B[0m | \u001B[36mecodonut.eco_frame.eco_frame\u001B[0m:\u001B[36mevaluate_ecoframe\u001B[0m:\u001B[36m203\u001B[0m - \u001B[34m\u001B[1mDistributing levels...\u001B[0m\n",
      "\u001B[32m2025-03-24 17:27:43.254\u001B[0m | \u001B[34m\u001B[1mDEBUG   \u001B[0m | \u001B[36mecodonut.eco_frame.eco_frame\u001B[0m:\u001B[36mevaluate_ecoframe\u001B[0m:\u001B[36m213\u001B[0m - \u001B[34m\u001B[1mMax impact: 4.0, Min impact: -10.0\u001B[0m\n",
      "\u001B[32m2025-03-24 17:27:43.254\u001B[0m | \u001B[34m\u001B[1mDEBUG   \u001B[0m | \u001B[36mecodonut.eco_frame.eco_frame\u001B[0m:\u001B[36mevaluate_ecoframe\u001B[0m:\u001B[36m214\u001B[0m - \u001B[34m\u001B[1mCombining geometry...\u001B[0m\n",
      "\u001B[32m2025-03-24 17:29:22.325\u001B[0m | \u001B[34m\u001B[1mDEBUG   \u001B[0m | \u001B[36mecodonut.eco_frame.eco_frame\u001B[0m:\u001B[36mevaluate_ecoframe\u001B[0m:\u001B[36m221\u001B[0m - \u001B[34m\u001B[1mGrouping geometry...\u001B[0m\n"
     ]
    }
   ],
   "execution_count": 12
  },
  {
   "metadata": {
    "ExecuteTime": {
     "end_time": "2025-03-24T14:30:25.472272Z",
     "start_time": "2025-03-24T14:30:24.718082Z"
    }
   },
   "cell_type": "code",
   "source": "frame.to_file('new_carcas_full.gpkg')",
   "id": "23cea286621e89df",
   "outputs": [],
   "execution_count": 13
  },
  {
   "metadata": {},
   "cell_type": "code",
   "source": "frame.eco_layers_gdf.to_file('old_carcas.gpkg')",
   "id": "14240a3beba9af5c",
   "outputs": [],
   "execution_count": null
  },
  {
   "metadata": {},
   "cell_type": "code",
   "source": "",
   "id": "4674aff7e0f7a575",
   "outputs": [],
   "execution_count": null
  },
  {
   "metadata": {},
   "cell_type": "code",
   "source": [
    "from shapely import Point\n",
    "\n",
    "Point(317015.536, 6510668.522).buffer(100)"
   ],
   "id": "3b642866683639de",
   "outputs": [],
   "execution_count": null
  },
  {
   "metadata": {},
   "cell_type": "code",
   "source": [
    "import geopandas as gpd\n",
    "\n",
    "geom = layers['woods'].to_crs(32636).iloc[1]['geometry']\n",
    "# p1 = geom.buffer(100)\n",
    "p2 = geom.buffer(100, resolution=2).buffer(-100, resolution=2)\n",
    "gpd.GeoDataFrame(geometry=[p2, geom], crs=32636).explore()"
   ],
   "id": "dd9b95bef6c83658",
   "outputs": [],
   "execution_count": null
  },
  {
   "metadata": {},
   "cell_type": "code",
   "outputs": [],
   "execution_count": null,
   "source": "",
   "id": "8b5279e7490cefc"
  }
 ],
 "metadata": {
  "kernelspec": {
   "display_name": "Python 3",
   "language": "python",
   "name": "python3"
  },
  "language_info": {
   "codemirror_mode": {
    "name": "ipython",
    "version": 2
   },
   "file_extension": ".py",
   "mimetype": "text/x-python",
   "name": "python",
   "nbconvert_exporter": "python",
   "pygments_lexer": "ipython2",
   "version": "2.7.6"
  }
 },
 "nbformat": 4,
 "nbformat_minor": 5
}
